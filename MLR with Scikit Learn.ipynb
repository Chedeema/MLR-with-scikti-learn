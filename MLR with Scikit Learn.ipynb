{
 "cells": [
  {
   "cell_type": "markdown",
   "id": "6ad9a769-6587-4986-a17b-f09be228b1c6",
   "metadata": {},
   "source": [
    "# Multiple regression analysis using scikit learn"
   ]
  },
  {
   "cell_type": "code",
   "execution_count": 1,
   "id": "14562ea1-713d-4294-a4d5-e5ffff279211",
   "metadata": {},
   "outputs": [],
   "source": [
    "import pandas as pd\n",
    "import numpy as np\n",
    "from sklearn.model_selection import train_test_split\n",
    "from sklearn.linear_model import LinearRegression\n",
    "from sklearn.metrics import mean_squared_error, r2_score\n",
    "import matplotlib.pyplot as plt"
   ]
  },
  {
   "cell_type": "code",
   "execution_count": 3,
   "id": "d2fb28f9-a25e-4ab1-9ceb-b5fc2f8a8597",
   "metadata": {},
   "outputs": [
    {
     "data": {
      "text/html": [
       "<div>\n",
       "<style scoped>\n",
       "    .dataframe tbody tr th:only-of-type {\n",
       "        vertical-align: middle;\n",
       "    }\n",
       "\n",
       "    .dataframe tbody tr th {\n",
       "        vertical-align: top;\n",
       "    }\n",
       "\n",
       "    .dataframe thead th {\n",
       "        text-align: right;\n",
       "    }\n",
       "</style>\n",
       "<table border=\"1\" class=\"dataframe\">\n",
       "  <thead>\n",
       "    <tr style=\"text-align: right;\">\n",
       "      <th></th>\n",
       "      <th>Campaign ID</th>\n",
       "      <th>Budget (USD)</th>\n",
       "      <th>Clicks</th>\n",
       "      <th>Impressions</th>\n",
       "      <th>Conversions</th>\n",
       "      <th>Region</th>\n",
       "      <th>Date</th>\n",
       "    </tr>\n",
       "  </thead>\n",
       "  <tbody>\n",
       "    <tr>\n",
       "      <th>0</th>\n",
       "      <td>1</td>\n",
       "      <td>8270</td>\n",
       "      <td>1943</td>\n",
       "      <td>92747</td>\n",
       "      <td>386</td>\n",
       "      <td>South</td>\n",
       "      <td>2023-01-01</td>\n",
       "    </tr>\n",
       "    <tr>\n",
       "      <th>1</th>\n",
       "      <td>2</td>\n",
       "      <td>1860</td>\n",
       "      <td>588</td>\n",
       "      <td>63752</td>\n",
       "      <td>460</td>\n",
       "      <td>South</td>\n",
       "      <td>2023-01-02</td>\n",
       "    </tr>\n",
       "    <tr>\n",
       "      <th>2</th>\n",
       "      <td>3</td>\n",
       "      <td>6390</td>\n",
       "      <td>3076</td>\n",
       "      <td>57573</td>\n",
       "      <td>347</td>\n",
       "      <td>East</td>\n",
       "      <td>2023-01-03</td>\n",
       "    </tr>\n",
       "    <tr>\n",
       "      <th>3</th>\n",
       "      <td>4</td>\n",
       "      <td>6191</td>\n",
       "      <td>2059</td>\n",
       "      <td>60101</td>\n",
       "      <td>189</td>\n",
       "      <td>East</td>\n",
       "      <td>2023-01-04</td>\n",
       "    </tr>\n",
       "    <tr>\n",
       "      <th>4</th>\n",
       "      <td>5</td>\n",
       "      <td>6734</td>\n",
       "      <td>2485</td>\n",
       "      <td>27646</td>\n",
       "      <td>190</td>\n",
       "      <td>East</td>\n",
       "      <td>2023-01-05</td>\n",
       "    </tr>\n",
       "  </tbody>\n",
       "</table>\n",
       "</div>"
      ],
      "text/plain": [
       "   Campaign ID  Budget (USD)  Clicks  Impressions  Conversions Region  \\\n",
       "0            1          8270    1943        92747          386  South   \n",
       "1            2          1860     588        63752          460  South   \n",
       "2            3          6390    3076        57573          347   East   \n",
       "3            4          6191    2059        60101          189   East   \n",
       "4            5          6734    2485        27646          190   East   \n",
       "\n",
       "         Date  \n",
       "0  2023-01-01  \n",
       "1  2023-01-02  \n",
       "2  2023-01-03  \n",
       "3  2023-01-04  \n",
       "4  2023-01-05  "
      ]
     },
     "execution_count": 3,
     "metadata": {},
     "output_type": "execute_result"
    }
   ],
   "source": [
    "# Load the dataset from the Excel file\n",
    "data = pd.read_csv('marketing_company_data.csv')\n",
    "\n",
    "# Display the first few rows of the dataset\n",
    "data.head()"
   ]
  },
  {
   "cell_type": "code",
   "execution_count": 5,
   "id": "915cf0b9-8517-417b-b8e1-3a4f628ff8b2",
   "metadata": {},
   "outputs": [
    {
     "data": {
      "text/html": [
       "<div>\n",
       "<style scoped>\n",
       "    .dataframe tbody tr th:only-of-type {\n",
       "        vertical-align: middle;\n",
       "    }\n",
       "\n",
       "    .dataframe tbody tr th {\n",
       "        vertical-align: top;\n",
       "    }\n",
       "\n",
       "    .dataframe thead th {\n",
       "        text-align: right;\n",
       "    }\n",
       "</style>\n",
       "<table border=\"1\" class=\"dataframe\">\n",
       "  <thead>\n",
       "    <tr style=\"text-align: right;\">\n",
       "      <th></th>\n",
       "      <th>Campaign ID</th>\n",
       "      <th>Budget (USD)</th>\n",
       "      <th>Clicks</th>\n",
       "      <th>Impressions</th>\n",
       "      <th>Conversions</th>\n",
       "      <th>Region</th>\n",
       "      <th>Date</th>\n",
       "    </tr>\n",
       "  </thead>\n",
       "  <tbody>\n",
       "    <tr>\n",
       "      <th>0</th>\n",
       "      <td>1</td>\n",
       "      <td>8270</td>\n",
       "      <td>1943</td>\n",
       "      <td>92747</td>\n",
       "      <td>386</td>\n",
       "      <td>2.0</td>\n",
       "      <td>2023-01-01</td>\n",
       "    </tr>\n",
       "    <tr>\n",
       "      <th>1</th>\n",
       "      <td>2</td>\n",
       "      <td>1860</td>\n",
       "      <td>588</td>\n",
       "      <td>63752</td>\n",
       "      <td>460</td>\n",
       "      <td>2.0</td>\n",
       "      <td>2023-01-02</td>\n",
       "    </tr>\n",
       "    <tr>\n",
       "      <th>2</th>\n",
       "      <td>3</td>\n",
       "      <td>6390</td>\n",
       "      <td>3076</td>\n",
       "      <td>57573</td>\n",
       "      <td>347</td>\n",
       "      <td>3.0</td>\n",
       "      <td>2023-01-03</td>\n",
       "    </tr>\n",
       "    <tr>\n",
       "      <th>3</th>\n",
       "      <td>4</td>\n",
       "      <td>6191</td>\n",
       "      <td>2059</td>\n",
       "      <td>60101</td>\n",
       "      <td>189</td>\n",
       "      <td>3.0</td>\n",
       "      <td>2023-01-04</td>\n",
       "    </tr>\n",
       "    <tr>\n",
       "      <th>4</th>\n",
       "      <td>5</td>\n",
       "      <td>6734</td>\n",
       "      <td>2485</td>\n",
       "      <td>27646</td>\n",
       "      <td>190</td>\n",
       "      <td>3.0</td>\n",
       "      <td>2023-01-05</td>\n",
       "    </tr>\n",
       "  </tbody>\n",
       "</table>\n",
       "</div>"
      ],
      "text/plain": [
       "   Campaign ID  Budget (USD)  Clicks  Impressions  Conversions  Region  \\\n",
       "0            1          8270    1943        92747          386     2.0   \n",
       "1            2          1860     588        63752          460     2.0   \n",
       "2            3          6390    3076        57573          347     3.0   \n",
       "3            4          6191    2059        60101          189     3.0   \n",
       "4            5          6734    2485        27646          190     3.0   \n",
       "\n",
       "         Date  \n",
       "0  2023-01-01  \n",
       "1  2023-01-02  \n",
       "2  2023-01-03  \n",
       "3  2023-01-04  \n",
       "4  2023-01-05  "
      ]
     },
     "execution_count": 5,
     "metadata": {},
     "output_type": "execute_result"
    }
   ],
   "source": [
    "region_mapping = {\n",
    "    'North': 1.0,\n",
    "    'South': 2.0,\n",
    "    'East': 3.0,\n",
    "    'West': 4.0\n",
    "}\n",
    "\n",
    "# Apply the mapping to the 'Region' column\n",
    "data['Region'] = data['Region'].map(region_mapping)\n",
    "\n",
    "data.head()"
   ]
  },
  {
   "cell_type": "code",
   "execution_count": 7,
   "id": "d06b482b-c9b5-4fda-8eac-94997eee10c0",
   "metadata": {},
   "outputs": [
    {
     "name": "stdout",
     "output_type": "stream",
     "text": [
      "   Budget (USD)  Clicks  Impressions  Region\n",
      "0          8270    1943        92747     2.0\n",
      "1          1860     588        63752     2.0\n",
      "2          6390    3076        57573     3.0\n",
      "3          6191    2059        60101     3.0\n",
      "4          6734    2485        27646     3.0\n",
      "0    386\n",
      "1    460\n",
      "2    347\n",
      "3    189\n",
      "4    190\n",
      "Name: Conversions, dtype: int64\n"
     ]
    }
   ],
   "source": [
    "# Define the target variable (dependent variable)\n",
    "y = data['Conversions']\n",
    "\n",
    "# Define the feature variables (independent variables) \n",
    "X = data.drop(columns=['Campaign ID', 'Conversions', 'Date'])  # Drop non-relevant columns\n",
    "\n",
    "# Display the feature matrix and target variable\n",
    "print(X.head())\n",
    "print(y.head())"
   ]
  },
  {
   "cell_type": "code",
   "execution_count": 9,
   "id": "d935ebaa-32e8-43a3-b04c-a85ea4e77ae2",
   "metadata": {},
   "outputs": [
    {
     "name": "stdout",
     "output_type": "stream",
     "text": [
      "Training set size: 160, Test set size: 40\n"
     ]
    }
   ],
   "source": [
    "# Split the dataset into training and testing sets (80% training, 20% testing)\n",
    "X_train, X_test, y_train, y_test = train_test_split(X, y, test_size=0.2, random_state=42)\n",
    "\n",
    "# Display the size of the training and test sets\n",
    "print(f\"Training set size: {X_train.shape[0]}, Test set size: {X_test.shape[0]}\")"
   ]
  },
  {
   "cell_type": "code",
   "execution_count": 11,
   "id": "d859a29d-5c89-4208-b34f-92fe7460cafc",
   "metadata": {},
   "outputs": [
    {
     "name": "stdout",
     "output_type": "stream",
     "text": [
      "Intercept: 174.90395796917667\n",
      "Slope: [9.35902304e-04 5.25651353e-03 8.03405884e-04 4.25711358e+00]\n"
     ]
    }
   ],
   "source": [
    "model = LinearRegression()\n",
    "\n",
    "# Train the model on the training data\n",
    "model.fit(X_train, y_train)\n",
    "\n",
    "# Output the model's intercept and coefficients\n",
    "print(f\"Intercept: {model.intercept_}\")\n",
    "print(f\"Slope: {model.coef_}\")"
   ]
  },
  {
   "cell_type": "code",
   "execution_count": 13,
   "id": "b7fc65fd-e15c-42f8-90b3-dc5c179af1e6",
   "metadata": {},
   "outputs": [
    {
     "name": "stdout",
     "output_type": "stream",
     "text": [
      "Mean Squared Error: 20008.62419552101\n",
      "R-squared: 0.048874539635816006\n"
     ]
    }
   ],
   "source": [
    "# Make predictions on the test set\n",
    "y_pred = model.predict(X_test)\n",
    "\n",
    "# Evaluate the model using Mean Squared Error (MSE) and R-squared (R²)\n",
    "mse = mean_squared_error(y_test, y_pred)\n",
    "r_squared = r2_score(y_test, y_pred)\n",
    "\n",
    "print(f\"Mean Squared Error: {mse}\")\n",
    "print(f\"R-squared: {r_squared}\")"
   ]
  },
  {
   "cell_type": "code",
   "execution_count": 15,
   "id": "e2d88c4b-071b-4db8-81ee-c500b23a54ba",
   "metadata": {},
   "outputs": [
    {
     "data": {
      "image/png": "[encoded data removed]",
      "text/plain": [
       "<Figure size 640x480 with 1 Axes>"
      ]
     },
     "metadata": {},
     "output_type": "display_data"
    }
   ],
   "source": [
    "# Scatter plot of Actual vs Predicted conversions\n",
    "plt.scatter(y_test, y_pred, color='blue')\n",
    "plt.plot([min(y_test), max(y_test)], [min(y_pred), max(y_pred)], color='red', linewidth=2)\n",
    "\n",
    "plt.title('Actual vs Predicted Conversions')\n",
    "plt.xlabel('Actual Conversions')\n",
    "plt.ylabel('Predicted Conversions')\n",
    "plt.show()"
   ]
  },
  {
   "cell_type": "markdown",
   "id": "a2be38df-c40b-4189-b886-203509159dc7",
   "metadata": {},
   "source": [
    "### Mean Squared Error (MSE)\n",
    "What it is: Think of MSE as a way to measure how \"off\" our predictions are compared to the actual values.\n",
    "##### How to understand it:\n",
    "Imagine you’re throwing darts at a target. Each dart represents a prediction. If your darts land close to the bullseye (the actual value), that’s good! A lower MSE means your darts (predictions) are hitting closer to the target.\n",
    "In your case, an MSE of 20008.62 means that, on average, your predictions are a bit far from the actual values, similar to darts that are scattered around the target rather than hitting the center.\n",
    "### R-squared (R²)\n",
    "What it is: R-squared tells us how well our predictions explain what’s actually happening.\n",
    "##### How to understand it:\n",
    "Continuing with the dart analogy, if you hit the bullseye most of the time, that means your throws (predictions) are good and explain what you were aiming for very well. If most of your darts are all over the place and not really hitting the target, your predictions aren’t very helpful.\n",
    "An R-squared value of 0.05 (or 5%) means that only 5% of what’s happening is explained by your predictions. This is very low! It’s like saying you only hit the target 5% of the time. The other 95% of the time, something else is going on that your predictions aren’t capturing.\n",
    "##### Summary\n",
    "MSE (20008.62): Your predictions are not very close to the actual values; they miss the mark quite a bit.\n",
    "R-squared (0.05): Your predictions only explain a tiny part of what’s happening, meaning there’s a lot more going on that your model isn’t taking into account.\n",
    "In simple terms, your model needs improvement to make better predictions!"
   ]
  }
 ],
 "metadata": {
  "kernelspec": {
   "display_name": "Python 3 (ipykernel)",
   "language": "python",
   "name": "python3"
  },
  "language_info": {
   "codemirror_mode": {
    "name": "ipython",
    "version": 3
   },
   "file_extension": ".py",
   "mimetype": "text/x-python",
   "name": "python",
   "nbconvert_exporter": "python",
   "pygments_lexer": "ipython3",
   "version": "3.12.4"
  }
 },
 "nbformat": 4,
 "nbformat_minor": 5
}
